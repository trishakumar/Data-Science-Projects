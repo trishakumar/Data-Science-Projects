{
 "cells": [
  {
   "cell_type": "code",
   "execution_count": 1,
   "id": "d9c1e68d-8f50-4c9e-8a0e-f4ac896f97fa",
   "metadata": {},
   "outputs": [],
   "source": [
    "import numpy as np\n",
    "import pandas as pd"
   ]
  },
  {
   "cell_type": "code",
   "execution_count": 2,
   "id": "8af1032a-d71d-47ae-8394-2d80402a55ba",
   "metadata": {},
   "outputs": [],
   "source": [
    "book_df = pd.read_csv('../Book recommendation system/Books.csv', low_memory=False)\n",
    "ratings_df = pd.read_csv('../Book recommendation system/Ratings.csv').sample(40000)\n",
    "user_df = pd.read_csv('../Book recommendation system/Users.csv')\n",
    "user_rating_df = ratings_df.merge(user_df, left_on = 'User-ID', right_on = 'User-ID')"
   ]
  },
  {
   "cell_type": "code",
   "execution_count": 3,
   "id": "afa8fd8c-9938-439c-8c9e-90fcbe2a821d",
   "metadata": {},
   "outputs": [],
   "source": [
    "book_user_rating = book_df.merge(user_rating_df, left_on = 'ISBN',right_on = 'ISBN')\n",
    "book_user_rating = book_user_rating[['ISBN', 'Book-Title', 'Book-Author', 'User-ID', 'Book-Rating']]\n",
    "book_user_rating.reset_index(drop=True, inplace = True)"
   ]
  },
  {
   "cell_type": "code",
   "execution_count": 4,
   "id": "ca58a754-739f-45e9-9ae0-75d3b743ecad",
   "metadata": {},
   "outputs": [],
   "source": [
    "d ={}\n",
    "for i,j in enumerate(book_user_rating.ISBN.unique()):\n",
    "    d[j] =i\n",
    "book_user_rating['unique_id_book'] = book_user_rating['ISBN'].map(d)"
   ]
  },
  {
   "cell_type": "code",
   "execution_count": 5,
   "id": "0bdc4b6b-15f4-479d-b648-36b33e017ad8",
   "metadata": {},
   "outputs": [],
   "source": [
    "users_books_pivot_matrix_df = book_user_rating.pivot(index='User-ID', \n",
    "                                                          columns='unique_id_book', \n",
    "                                                          values='Book-Rating').fillna(0)"
   ]
  },
  {
   "cell_type": "code",
   "execution_count": 6,
   "id": "fa66a5b7-6136-4016-bdc2-156cd2dabcd1",
   "metadata": {},
   "outputs": [
    {
     "data": {
      "text/html": [
       "<div>\n",
       "<style scoped>\n",
       "    .dataframe tbody tr th:only-of-type {\n",
       "        vertical-align: middle;\n",
       "    }\n",
       "\n",
       "    .dataframe tbody tr th {\n",
       "        vertical-align: top;\n",
       "    }\n",
       "\n",
       "    .dataframe thead th {\n",
       "        text-align: right;\n",
       "    }\n",
       "</style>\n",
       "<table border=\"1\" class=\"dataframe\">\n",
       "  <thead>\n",
       "    <tr style=\"text-align: right;\">\n",
       "      <th>unique_id_book</th>\n",
       "      <th>0</th>\n",
       "      <th>1</th>\n",
       "      <th>2</th>\n",
       "      <th>3</th>\n",
       "      <th>4</th>\n",
       "      <th>5</th>\n",
       "      <th>6</th>\n",
       "      <th>7</th>\n",
       "      <th>8</th>\n",
       "      <th>9</th>\n",
       "      <th>...</th>\n",
       "      <th>26091</th>\n",
       "      <th>26092</th>\n",
       "      <th>26093</th>\n",
       "      <th>26094</th>\n",
       "      <th>26095</th>\n",
       "      <th>26096</th>\n",
       "      <th>26097</th>\n",
       "      <th>26098</th>\n",
       "      <th>26099</th>\n",
       "      <th>26100</th>\n",
       "    </tr>\n",
       "    <tr>\n",
       "      <th>User-ID</th>\n",
       "      <th></th>\n",
       "      <th></th>\n",
       "      <th></th>\n",
       "      <th></th>\n",
       "      <th></th>\n",
       "      <th></th>\n",
       "      <th></th>\n",
       "      <th></th>\n",
       "      <th></th>\n",
       "      <th></th>\n",
       "      <th></th>\n",
       "      <th></th>\n",
       "      <th></th>\n",
       "      <th></th>\n",
       "      <th></th>\n",
       "      <th></th>\n",
       "      <th></th>\n",
       "      <th></th>\n",
       "      <th></th>\n",
       "      <th></th>\n",
       "      <th></th>\n",
       "    </tr>\n",
       "  </thead>\n",
       "  <tbody>\n",
       "    <tr>\n",
       "      <th>16</th>\n",
       "      <td>0.0</td>\n",
       "      <td>0.0</td>\n",
       "      <td>0.0</td>\n",
       "      <td>0.0</td>\n",
       "      <td>0.0</td>\n",
       "      <td>0.0</td>\n",
       "      <td>0.0</td>\n",
       "      <td>0.0</td>\n",
       "      <td>9.0</td>\n",
       "      <td>0.0</td>\n",
       "      <td>...</td>\n",
       "      <td>0.0</td>\n",
       "      <td>0.0</td>\n",
       "      <td>0.0</td>\n",
       "      <td>0.0</td>\n",
       "      <td>0.0</td>\n",
       "      <td>0.0</td>\n",
       "      <td>0.0</td>\n",
       "      <td>0.0</td>\n",
       "      <td>0.0</td>\n",
       "      <td>0.0</td>\n",
       "    </tr>\n",
       "    <tr>\n",
       "      <th>68</th>\n",
       "      <td>0.0</td>\n",
       "      <td>0.0</td>\n",
       "      <td>0.0</td>\n",
       "      <td>0.0</td>\n",
       "      <td>0.0</td>\n",
       "      <td>0.0</td>\n",
       "      <td>0.0</td>\n",
       "      <td>0.0</td>\n",
       "      <td>0.0</td>\n",
       "      <td>0.0</td>\n",
       "      <td>...</td>\n",
       "      <td>0.0</td>\n",
       "      <td>0.0</td>\n",
       "      <td>0.0</td>\n",
       "      <td>0.0</td>\n",
       "      <td>0.0</td>\n",
       "      <td>0.0</td>\n",
       "      <td>0.0</td>\n",
       "      <td>0.0</td>\n",
       "      <td>0.0</td>\n",
       "      <td>0.0</td>\n",
       "    </tr>\n",
       "    <tr>\n",
       "      <th>87</th>\n",
       "      <td>0.0</td>\n",
       "      <td>0.0</td>\n",
       "      <td>0.0</td>\n",
       "      <td>0.0</td>\n",
       "      <td>0.0</td>\n",
       "      <td>0.0</td>\n",
       "      <td>0.0</td>\n",
       "      <td>0.0</td>\n",
       "      <td>0.0</td>\n",
       "      <td>0.0</td>\n",
       "      <td>...</td>\n",
       "      <td>0.0</td>\n",
       "      <td>0.0</td>\n",
       "      <td>0.0</td>\n",
       "      <td>0.0</td>\n",
       "      <td>0.0</td>\n",
       "      <td>0.0</td>\n",
       "      <td>0.0</td>\n",
       "      <td>0.0</td>\n",
       "      <td>0.0</td>\n",
       "      <td>0.0</td>\n",
       "    </tr>\n",
       "    <tr>\n",
       "      <th>139</th>\n",
       "      <td>0.0</td>\n",
       "      <td>0.0</td>\n",
       "      <td>0.0</td>\n",
       "      <td>0.0</td>\n",
       "      <td>0.0</td>\n",
       "      <td>0.0</td>\n",
       "      <td>0.0</td>\n",
       "      <td>0.0</td>\n",
       "      <td>0.0</td>\n",
       "      <td>0.0</td>\n",
       "      <td>...</td>\n",
       "      <td>0.0</td>\n",
       "      <td>0.0</td>\n",
       "      <td>0.0</td>\n",
       "      <td>0.0</td>\n",
       "      <td>0.0</td>\n",
       "      <td>0.0</td>\n",
       "      <td>0.0</td>\n",
       "      <td>0.0</td>\n",
       "      <td>0.0</td>\n",
       "      <td>0.0</td>\n",
       "    </tr>\n",
       "    <tr>\n",
       "      <th>199</th>\n",
       "      <td>0.0</td>\n",
       "      <td>0.0</td>\n",
       "      <td>0.0</td>\n",
       "      <td>0.0</td>\n",
       "      <td>0.0</td>\n",
       "      <td>0.0</td>\n",
       "      <td>0.0</td>\n",
       "      <td>0.0</td>\n",
       "      <td>0.0</td>\n",
       "      <td>0.0</td>\n",
       "      <td>...</td>\n",
       "      <td>0.0</td>\n",
       "      <td>0.0</td>\n",
       "      <td>0.0</td>\n",
       "      <td>0.0</td>\n",
       "      <td>0.0</td>\n",
       "      <td>0.0</td>\n",
       "      <td>0.0</td>\n",
       "      <td>0.0</td>\n",
       "      <td>0.0</td>\n",
       "      <td>0.0</td>\n",
       "    </tr>\n",
       "  </tbody>\n",
       "</table>\n",
       "<p>5 rows × 26101 columns</p>\n",
       "</div>"
      ],
      "text/plain": [
       "unique_id_book  0      1      2      3      4      5      6      7      8      \\\n",
       "User-ID                                                                         \n",
       "16                0.0    0.0    0.0    0.0    0.0    0.0    0.0    0.0    9.0   \n",
       "68                0.0    0.0    0.0    0.0    0.0    0.0    0.0    0.0    0.0   \n",
       "87                0.0    0.0    0.0    0.0    0.0    0.0    0.0    0.0    0.0   \n",
       "139               0.0    0.0    0.0    0.0    0.0    0.0    0.0    0.0    0.0   \n",
       "199               0.0    0.0    0.0    0.0    0.0    0.0    0.0    0.0    0.0   \n",
       "\n",
       "unique_id_book  9      ...  26091  26092  26093  26094  26095  26096  26097  \\\n",
       "User-ID                ...                                                    \n",
       "16                0.0  ...    0.0    0.0    0.0    0.0    0.0    0.0    0.0   \n",
       "68                0.0  ...    0.0    0.0    0.0    0.0    0.0    0.0    0.0   \n",
       "87                0.0  ...    0.0    0.0    0.0    0.0    0.0    0.0    0.0   \n",
       "139               0.0  ...    0.0    0.0    0.0    0.0    0.0    0.0    0.0   \n",
       "199               0.0  ...    0.0    0.0    0.0    0.0    0.0    0.0    0.0   \n",
       "\n",
       "unique_id_book  26098  26099  26100  \n",
       "User-ID                              \n",
       "16                0.0    0.0    0.0  \n",
       "68                0.0    0.0    0.0  \n",
       "87                0.0    0.0    0.0  \n",
       "139               0.0    0.0    0.0  \n",
       "199               0.0    0.0    0.0  \n",
       "\n",
       "[5 rows x 26101 columns]"
      ]
     },
     "execution_count": 6,
     "metadata": {},
     "output_type": "execute_result"
    }
   ],
   "source": [
    "users_books_pivot_matrix_df.head()"
   ]
  },
  {
   "cell_type": "code",
   "execution_count": 7,
   "id": "d89dc3bf-ef4c-4e89-b87a-73943fd8f583",
   "metadata": {},
   "outputs": [
    {
     "data": {
      "text/plain": [
       "array([[0., 0., 0., ..., 0., 0., 0.],\n",
       "       [0., 0., 0., ..., 0., 0., 0.],\n",
       "       [0., 0., 0., ..., 0., 0., 0.],\n",
       "       ...,\n",
       "       [0., 0., 0., ..., 0., 0., 0.],\n",
       "       [0., 0., 0., ..., 0., 0., 0.],\n",
       "       [0., 0., 0., ..., 0., 0., 0.]])"
      ]
     },
     "execution_count": 7,
     "metadata": {},
     "output_type": "execute_result"
    }
   ],
   "source": [
    "users_books_pivot_matrix_df = users_books_pivot_matrix_df.values\n",
    "users_books_pivot_matrix_df"
   ]
  },
  {
   "cell_type": "code",
   "execution_count": 8,
   "id": "823d2f30-900b-4b90-b63f-6870a87c2ad4",
   "metadata": {},
   "outputs": [],
   "source": [
    "from scipy.sparse.linalg import svds\n",
    "\n",
    "NUMBER_OF_FACTORS_MF = 15\n",
    "\n",
    "#Performs matrix factorization of the original user item matrix\n",
    "U, sigma, Vt = svds(users_books_pivot_matrix_df, k = NUMBER_OF_FACTORS_MF)"
   ]
  },
  {
   "cell_type": "code",
   "execution_count": 9,
   "id": "e97319f5-b171-4578-b3ce-af2084e14bdd",
   "metadata": {},
   "outputs": [
    {
     "data": {
      "text/plain": [
       "(15, 15)"
      ]
     },
     "execution_count": 9,
     "metadata": {},
     "output_type": "execute_result"
    }
   ],
   "source": [
    "sigma = np.diag(sigma)\n",
    "sigma.shape"
   ]
  },
  {
   "cell_type": "code",
   "execution_count": 10,
   "id": "195896ec-557c-4e52-9b00-5a936c5e908e",
   "metadata": {},
   "outputs": [
    {
     "data": {
      "text/plain": [
       "array([[ 4.21014705e-33,  0.00000000e+00,  0.00000000e+00, ...,\n",
       "         0.00000000e+00,  2.31745278e-33,  2.89681598e-33],\n",
       "       [-1.33490058e-36,  0.00000000e+00,  0.00000000e+00, ...,\n",
       "         0.00000000e+00, -6.55543806e-37, -8.19429757e-37],\n",
       "       [ 1.50635909e-33,  0.00000000e+00,  0.00000000e+00, ...,\n",
       "         0.00000000e+00,  7.40928694e-34,  9.26160868e-34],\n",
       "       ...,\n",
       "       [-1.56190528e-33,  0.00000000e+00,  0.00000000e+00, ...,\n",
       "         0.00000000e+00, -7.70449107e-34, -9.63061384e-34],\n",
       "       [ 1.43719317e-34,  0.00000000e+00,  0.00000000e+00, ...,\n",
       "         0.00000000e+00,  7.09752219e-35,  8.87190274e-35],\n",
       "       [ 1.93587880e-25,  0.00000000e+00,  0.00000000e+00, ...,\n",
       "         0.00000000e+00,  7.47432840e-26,  9.34291050e-26]])"
      ]
     },
     "execution_count": 10,
     "metadata": {},
     "output_type": "execute_result"
    }
   ],
   "source": [
    "all_user_predicted_ratings = np.dot(np.dot(U, sigma), Vt) \n",
    "all_user_predicted_ratings"
   ]
  },
  {
   "cell_type": "code",
   "execution_count": 11,
   "id": "af612de6-315e-42a9-901a-3422017fe83d",
   "metadata": {},
   "outputs": [],
   "source": [
    "def top_cosine_similarity(data, book_id, top_n=10):\n",
    "    index = book_id \n",
    "    book_row = data[index, :]\n",
    "    magnitude = np.sqrt(np.einsum('ij, ij -> i', data, data))\n",
    "    similarity = np.dot(book_row, data.T) / (magnitude[index] * magnitude)\n",
    "    sort_indexes = np.argsort(-similarity)\n",
    "    return sort_indexes[:top_n]\n",
    "\n",
    "def similar_books(book_user_rating, book_id, top_indexes):\n",
    "    print('Recommendations for {0}: \\n'.format(\n",
    "    book_user_rating[book_user_rating.unique_id_book == book_id]['Book-Title'].values[0]))\n",
    "    for id in top_indexes + 1:\n",
    "        print(book_user_rating[book_user_rating.unique_id_book == id]['Book-Title'].values[0])"
   ]
  },
  {
   "cell_type": "code",
   "execution_count": 12,
   "id": "d3dd3cb0-7198-4161-abf4-d64aacafa01d",
   "metadata": {},
   "outputs": [
    {
     "name": "stdout",
     "output_type": "stream",
     "text": [
      "Recommendations for Basic Tagalog for Foreigners and Non-Tagalogs (Tuttle Language Library): \n",
      "\n",
      "You Are SO Cursed!\n",
      "They Came to Baghdad (Winterbrook Edition)\n",
      "Cauldron\n"
     ]
    },
    {
     "name": "stderr",
     "output_type": "stream",
     "text": [
      "C:\\Users\\trish\\AppData\\Local\\Temp\\ipykernel_3532\\437162856.py:5: RuntimeWarning: invalid value encountered in true_divide\n",
      "  similarity = np.dot(book_row, data.T) / (magnitude[index] * magnitude)\n"
     ]
    }
   ],
   "source": [
    "k = 50\n",
    "movie_id =25954  \n",
    "top_n = 3\n",
    "sliced = Vt.T[:, :k] \n",
    "\n",
    "similar_books(book_user_rating, 25954, top_cosine_similarity(sliced, movie_id, top_n))"
   ]
  },
  {
   "cell_type": "code",
   "execution_count": null,
   "id": "706e868f",
   "metadata": {},
   "outputs": [],
   "source": []
  }
 ],
 "metadata": {
  "kernelspec": {
   "display_name": "Python 3 (ipykernel)",
   "language": "python",
   "name": "python3"
  },
  "language_info": {
   "codemirror_mode": {
    "name": "ipython",
    "version": 3
   },
   "file_extension": ".py",
   "mimetype": "text/x-python",
   "name": "python",
   "nbconvert_exporter": "python",
   "pygments_lexer": "ipython3",
   "version": "3.9.12"
  }
 },
 "nbformat": 4,
 "nbformat_minor": 5
}
